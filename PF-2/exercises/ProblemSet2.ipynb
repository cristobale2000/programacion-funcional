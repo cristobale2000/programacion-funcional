{
 "cells": [
  {
   "cell_type": "markdown",
   "metadata": {},
   "source": [
    "# Declarative Programming @ URJC\n",
    "# Functional programming\n",
    "## Problem Set 2: Algebraic data types"
   ]
  },
  {
   "cell_type": "markdown",
   "metadata": {},
   "source": [
    "Auxiliary definitions:"
   ]
  },
  {
   "cell_type": "code",
   "execution_count": 65,
   "metadata": {},
   "outputs": [
    {
     "data": {
      "text/plain": [
       "defined \u001b[32mtrait\u001b[39m \u001b[36mIsomorphic\u001b[39m"
      ]
     },
     "execution_count": 65,
     "metadata": {},
     "output_type": "execute_result"
    }
   ],
   "source": [
    "trait Isomorphic[A, B]{\n",
    "    \n",
    "    def from(a: A): B\n",
    "    \n",
    "    def to(b: B): A\n",
    "    \n",
    "    // equality \n",
    "    \n",
    "    def equalA(a1: A, a2: A): Boolean = \n",
    "        a1 == a2\n",
    "    \n",
    "    def equalB(b1: B, b2: B): Boolean =\n",
    "        b1 == b2\n",
    "    \n",
    "    // Bijection laws\n",
    "    \n",
    "    def law1(a: A): Boolean = \n",
    "        equalA(to(from(a)), a)\n",
    "    \n",
    "    def law2(b: B): Boolean = \n",
    "        equalB(from(to(b)), b)\n",
    "}"
   ]
  },
  {
   "cell_type": "markdown",
   "metadata": {},
   "source": [
    "## Exercise 1"
   ]
  },
  {
   "cell_type": "markdown",
   "metadata": {},
   "source": [
    "### Part a)"
   ]
  },
  {
   "cell_type": "markdown",
   "metadata": {},
   "source": [
    "Prove that the isomorphism $1+1 \\cong Boolean$ holds by implementing the following bijections: "
   ]
  },
  {
   "cell_type": "code",
   "execution_count": 2,
   "metadata": {},
   "outputs": [
    {
     "data": {
      "text/plain": [
       "defined \u001b[32mobject\u001b[39m \u001b[36mIso\u001b[39m"
      ]
     },
     "execution_count": 2,
     "metadata": {},
     "output_type": "execute_result"
    }
   ],
   "source": [
    "object Iso extends Isomorphic[Either[Unit, Unit], Boolean]{\n",
    " \n",
    "    def from(a: Either[Unit, Unit]): Boolean = \n",
    "        a match {\n",
    "            case Left(u) => false\n",
    "            // case Right(u) => true : Boolean\n",
    "            case _ => true // Default case\n",
    "        }\n",
    "    \n",
    "    def to(a: Boolean): Either[Unit, Unit] = \n",
    "        if(a) Right(()): Either[Unit, Unit]\n",
    "        else Left(()) : Either[Unit, Unit]\n",
    "    \n",
    "}"
   ]
  },
  {
   "cell_type": "markdown",
   "metadata": {},
   "source": [
    "Check that they are indeed mutual inverses, i.e. that for all $a: Boolean$, `toBoolean(fromBoolean(a))==a`, and that for all $a: Either[Unit, Unit]$, `fromBoolean(toBoolean(a))==a`."
   ]
  },
  {
   "cell_type": "code",
   "execution_count": 6,
   "metadata": {},
   "outputs": [
    {
     "data": {
      "text/plain": [
       "\u001b[36mres5_0\u001b[39m: \u001b[32mBoolean\u001b[39m = \u001b[32mtrue\u001b[39m\n",
       "\u001b[36mres5_1\u001b[39m: \u001b[32mBoolean\u001b[39m = \u001b[32mtrue\u001b[39m\n",
       "\u001b[36mres5_2\u001b[39m: \u001b[32mBoolean\u001b[39m = \u001b[32mtrue\u001b[39m\n",
       "\u001b[36mres5_3\u001b[39m: \u001b[32mBoolean\u001b[39m = \u001b[32mtrue\u001b[39m\n",
       "\u001b[36mres5_4\u001b[39m: \u001b[32mBoolean\u001b[39m = \u001b[32mtrue\u001b[39m\n",
       "\u001b[36mres5_5\u001b[39m: \u001b[32mBoolean\u001b[39m = \u001b[32mtrue\u001b[39m\n",
       "\u001b[36mres5_6\u001b[39m: \u001b[32mBoolean\u001b[39m = \u001b[32mtrue\u001b[39m\n",
       "\u001b[36mres5_7\u001b[39m: \u001b[32mBoolean\u001b[39m = \u001b[32mtrue\u001b[39m"
      ]
     },
     "execution_count": 6,
     "metadata": {},
     "output_type": "execute_result"
    }
   ],
   "source": [
    "Iso.to(Iso.from(Left())) == Left(())\n",
    "Iso.law1(Left(()))\n",
    "Iso.to(Iso.from(Right(()))) == Right(())\n",
    "Iso.law1(Right(()))\n",
    "\n",
    "Iso.from(Iso.to(false)) == false\n",
    "Iso.law2(false)\n",
    "Iso.from(Iso.to(true)) == true\n",
    "Iso.law2(true)"
   ]
  },
  {
   "cell_type": "markdown",
   "metadata": {},
   "source": [
    "### Part b)"
   ]
  },
  {
   "cell_type": "markdown",
   "metadata": {},
   "source": [
    "Show that we can redefine `Option[A]` using `Either[A,Unit]`: "
   ]
  },
  {
   "cell_type": "code",
   "execution_count": 3,
   "metadata": {},
   "outputs": [
    {
     "data": {
      "text/plain": [
       "defined \u001b[32mclass\u001b[39m \u001b[36mIso\u001b[39m"
      ]
     },
     "execution_count": 3,
     "metadata": {},
     "output_type": "execute_result"
    }
   ],
   "source": [
    "class Iso[A] extends Isomorphic[Option[A], Either[A, Unit]]{\n",
    "    \n",
    "    def from(o: Option[A]): Either[A, Unit] = \n",
    "        o match {\n",
    "            case Some(a) => Left(a)\n",
    "            case None => Right(())\n",
    "        }\n",
    "\n",
    "    def to(e: Either[A, Unit]): Option[A] = \n",
    "        e match {\n",
    "            case Left(a) => Some(a)\n",
    "            case Right(()) => None\n",
    "        }\n",
    "}"
   ]
  },
  {
   "cell_type": "markdown",
   "metadata": {},
   "source": [
    "Check that these functions are mutual inverses. For that, fix $A$ to particular types (e.g. `Boolean`, `Int`, etc.), and test the equivalences `from(to(e)) == e` and `to(from(o)) == o` for some values $o$ and $e$."
   ]
  },
  {
   "cell_type": "code",
   "execution_count": 11,
   "metadata": {},
   "outputs": [
    {
     "data": {
      "text/plain": [
       "\u001b[36miso\u001b[39m: \u001b[32mIso\u001b[39m[\u001b[32mBoolean\u001b[39m] = ammonite.$sess.cmd2$Helper$Iso@6141b56c\n",
       "\u001b[36mres10_1\u001b[39m: \u001b[32mBoolean\u001b[39m = \u001b[32mtrue\u001b[39m\n",
       "\u001b[36mres10_2\u001b[39m: \u001b[32mBoolean\u001b[39m = \u001b[32mtrue\u001b[39m\n",
       "\u001b[36mres10_3\u001b[39m: \u001b[32mBoolean\u001b[39m = \u001b[32mtrue\u001b[39m\n",
       "\u001b[36mres10_4\u001b[39m: \u001b[32mBoolean\u001b[39m = \u001b[32mtrue\u001b[39m\n",
       "\u001b[36mres10_5\u001b[39m: \u001b[32mBoolean\u001b[39m = \u001b[32mtrue\u001b[39m\n",
       "\u001b[36mres10_6\u001b[39m: \u001b[32mBoolean\u001b[39m = \u001b[32mtrue\u001b[39m"
      ]
     },
     "execution_count": 11,
     "metadata": {},
     "output_type": "execute_result"
    }
   ],
   "source": [
    "val iso = new Iso[Boolean]\n",
    "\n",
    "iso.from(iso.to(Left(true))) == Left(true)\n",
    "iso.from(iso.to(Left(false))) == Left(false)\n",
    "iso.from(iso.to(Right(()))) == Right(())\n",
    "\n",
    "iso.to(iso.from(Some(true))) == Some(true)\n",
    "iso.to(iso.from(Some(false))) == Some(false)\n",
    "iso.to(iso.from(None)) == None"
   ]
  },
  {
   "cell_type": "markdown",
   "metadata": {},
   "source": [
    "## Exercise 2"
   ]
  },
  {
   "cell_type": "markdown",
   "metadata": {},
   "source": [
    "How many functions are there of type `1+1+1 => Boolean`? Identify all of them as alternative implementations of the following signature: "
   ]
  },
  {
   "cell_type": "code",
   "execution_count": 12,
   "metadata": {},
   "outputs": [
    {
     "data": {
      "text/plain": [
       "defined \u001b[32mfunction\u001b[39m \u001b[36mf1\u001b[39m"
      ]
     },
     "execution_count": 12,
     "metadata": {},
     "output_type": "execute_result"
    }
   ],
   "source": [
    "def f1(e: Either[Unit, Either[Unit, Unit]]): Boolean = \n",
    "    e match {\n",
    "        case Left(()) => ??? // true or false\n",
    "        case Right(Left(())) => ??? // true or false\n",
    "        case Right(Right(())) => ??? // true or false\n",
    "    }"
   ]
  },
  {
   "cell_type": "code",
   "execution_count": null,
   "metadata": {},
   "outputs": [],
   "source": [
    "def f1(e: Either[Unit, Either[Unit, Unit]]): Boolean = \n",
    "    e match {\n",
    "        case Left(()) => false // true or false\n",
    "        case Right(Left(())) => false // true or false\n",
    "        case Right(Right(())) => false // true or false\n",
    "    }"
   ]
  },
  {
   "cell_type": "code",
   "execution_count": null,
   "metadata": {},
   "outputs": [],
   "source": [
    "def f1(e: Either[Unit, Either[Unit, Unit]]): Boolean = \n",
    "    e match {\n",
    "        case Left(()) => false // true or false\n",
    "        case Right(Left(())) => false // true or false\n",
    "        case Right(Right(())) => true // true or false\n",
    "    }"
   ]
  },
  {
   "cell_type": "code",
   "execution_count": null,
   "metadata": {},
   "outputs": [],
   "source": [
    "def f1(e: Either[Unit, Either[Unit, Unit]]): Boolean = \n",
    "    e match {\n",
    "        case Left(()) => false // true or false\n",
    "        case Right(Left(())) => true // true or false\n",
    "        case Right(Right(())) => false // true or false\n",
    "    }"
   ]
  },
  {
   "cell_type": "code",
   "execution_count": null,
   "metadata": {},
   "outputs": [],
   "source": [
    "def f1(e: Either[Unit, Either[Unit, Unit]]): Boolean = \n",
    "    e match {\n",
    "        case Left(()) => false // true or false\n",
    "        case Right(Left(())) => true // true or false\n",
    "        case Right(Right(())) => true // true or false\n",
    "    }"
   ]
  },
  {
   "cell_type": "code",
   "execution_count": null,
   "metadata": {},
   "outputs": [],
   "source": [
    "def f1(e: Either[Unit, Either[Unit, Unit]]): Boolean = \n",
    "    e match {\n",
    "        case Left(()) => true // true or false\n",
    "        case Right(Left(())) => false // true or false\n",
    "        case Right(Right(())) => false // true or false\n",
    "    }"
   ]
  },
  {
   "cell_type": "code",
   "execution_count": null,
   "metadata": {},
   "outputs": [],
   "source": [
    "def f1(e: Either[Unit, Either[Unit, Unit]]): Boolean = \n",
    "    e match {\n",
    "        case Left(()) => true // true or false\n",
    "        case Right(Left(())) => false // true or false\n",
    "        case Right(Right(())) => true // true or false\n",
    "    }"
   ]
  },
  {
   "cell_type": "code",
   "execution_count": 13,
   "metadata": {},
   "outputs": [
    {
     "data": {
      "text/plain": [
       "defined \u001b[32mfunction\u001b[39m \u001b[36mf1\u001b[39m"
      ]
     },
     "execution_count": 13,
     "metadata": {},
     "output_type": "execute_result"
    }
   ],
   "source": [
    "def f1(e: Either[Unit, Either[Unit, Unit]]): Boolean = \n",
    "    e match {\n",
    "        case Left(()) => true // true or false\n",
    "        case Right(Left(())) => true // true or false\n",
    "        case Right(Right(())) => false // true or false\n",
    "    }"
   ]
  },
  {
   "cell_type": "code",
   "execution_count": null,
   "metadata": {},
   "outputs": [],
   "source": [
    "def f1(e: Either[Unit, Either[Unit, Unit]]): Boolean = \n",
    "    e match {\n",
    "        case Left(()) => true // true or false\n",
    "        case Right(Left(())) => true // true or false\n",
    "        case Right(Right(())) => true // true or false\n",
    "    }"
   ]
  },
  {
   "cell_type": "markdown",
   "metadata": {},
   "source": [
    "Idem, as alternative lambda expressions:"
   ]
  },
  {
   "cell_type": "code",
   "execution_count": 14,
   "metadata": {},
   "outputs": [
    {
     "data": {
      "text/plain": [
       "\u001b[36mf1\u001b[39m: \u001b[32mEither\u001b[39m[\u001b[32mUnit\u001b[39m, \u001b[32mEither\u001b[39m[\u001b[32mUnit\u001b[39m, \u001b[32mUnit\u001b[39m]] => \u001b[32mBoolean\u001b[39m = ammonite.$sess.cmd13$Helper$$Lambda$2358/0x0000000800bbc840@18623385"
      ]
     },
     "execution_count": 14,
     "metadata": {},
     "output_type": "execute_result"
    }
   ],
   "source": [
    "val f1: Either[Unit, Either[Unit, Unit]] => Boolean = \n",
    "    {\n",
    "        case Left(()) => false // true or false\n",
    "        case Right(Left(())) => false // true or false\n",
    "        case Right(Right(())) => false // true or false\n",
    "    }"
   ]
  },
  {
   "cell_type": "code",
   "execution_count": null,
   "metadata": {},
   "outputs": [],
   "source": [
    "val f1: Either[Unit, Either[Unit, Unit]] => Boolean = \n",
    "    {\n",
    "        case Left(()) => false // true or false\n",
    "        case Right(Left(())) => false // true or false\n",
    "        case Right(Right(())) => true // true or false\n",
    "    }"
   ]
  },
  {
   "cell_type": "code",
   "execution_count": null,
   "metadata": {},
   "outputs": [],
   "source": [
    "val f1: Either[Unit, Either[Unit, Unit]] => Boolean = \n",
    "    {\n",
    "        case Left(()) => false // true or false\n",
    "        case Right(Left(())) => true // true or false\n",
    "        case Right(Right(())) => false // true or false\n",
    "    }"
   ]
  },
  {
   "cell_type": "code",
   "execution_count": null,
   "metadata": {},
   "outputs": [],
   "source": [
    "val f1: Either[Unit, Either[Unit, Unit]] => Boolean = \n",
    "    {\n",
    "        case Left(()) => false // true or false\n",
    "        case Right(Left(())) => true // true or false\n",
    "        case Right(Right(())) => true // true or false\n",
    "    }"
   ]
  },
  {
   "cell_type": "code",
   "execution_count": null,
   "metadata": {},
   "outputs": [],
   "source": [
    "val f1: Either[Unit, Either[Unit, Unit]] => Boolean = \n",
    "    {\n",
    "        case Left(()) => true // true or false\n",
    "        case Right(Left(())) => false // true or false\n",
    "        case Right(Right(())) => false // true or false\n",
    "    }"
   ]
  },
  {
   "cell_type": "code",
   "execution_count": null,
   "metadata": {},
   "outputs": [],
   "source": [
    "val f1: Either[Unit, Either[Unit, Unit]] => Boolean = \n",
    "    {\n",
    "        case Left(()) => true // true or false\n",
    "        case Right(Left(())) => false // true or false\n",
    "        case Right(Right(())) => true // true or false\n",
    "    }"
   ]
  },
  {
   "cell_type": "code",
   "execution_count": null,
   "metadata": {},
   "outputs": [],
   "source": [
    "val f1: Either[Unit, Either[Unit, Unit]] => Boolean = \n",
    "    {\n",
    "        case Left(()) => true // true or false\n",
    "        case Right(Left(())) => true // true or false\n",
    "        case Right(Right(())) => false // true or false\n",
    "    }"
   ]
  },
  {
   "cell_type": "code",
   "execution_count": null,
   "metadata": {},
   "outputs": [],
   "source": [
    "val f1: Either[Unit, Either[Unit, Unit]] => Boolean = \n",
    "    {\n",
    "        case Left(()) => true // true or false\n",
    "        case Right(Left(())) => true // true or false\n",
    "        case Right(Right(())) => true // true or false\n",
    "    }"
   ]
  },
  {
   "cell_type": "markdown",
   "metadata": {},
   "source": [
    "## Exercise 3"
   ]
  },
  {
   "cell_type": "markdown",
   "metadata": {},
   "source": [
    "How many different implementations are there of the following function signature? Recall that two implementations will be considered different if the corresponding mathematical functions are different. Write all of them."
   ]
  },
  {
   "cell_type": "code",
   "execution_count": 17,
   "metadata": {},
   "outputs": [
    {
     "data": {
      "text/plain": [
       "defined \u001b[32mfunction\u001b[39m \u001b[36mf1\u001b[39m\n",
       "defined \u001b[32mfunction\u001b[39m \u001b[36mf2\u001b[39m\n",
       "defined \u001b[32mfunction\u001b[39m \u001b[36mf3\u001b[39m\n",
       "defined \u001b[32mfunction\u001b[39m \u001b[36mf4\u001b[39m\n",
       "defined \u001b[32mfunction\u001b[39m \u001b[36mf5\u001b[39m\n",
       "defined \u001b[32mfunction\u001b[39m \u001b[36mf6\u001b[39m\n",
       "defined \u001b[32mfunction\u001b[39m \u001b[36mf7\u001b[39m\n",
       "defined \u001b[32mfunction\u001b[39m \u001b[36mf8\u001b[39m\n",
       "defined \u001b[32mfunction\u001b[39m \u001b[36mf9\u001b[39m"
      ]
     },
     "execution_count": 17,
     "metadata": {},
     "output_type": "execute_result"
    }
   ],
   "source": [
    "def f1(b: Boolean): Either[Unit, Either[Unit, Unit]] = \n",
    "    b match {\n",
    "        case true => Left(())\n",
    "        case false => Left(())\n",
    "    }\n",
    "\n",
    "def f2(b: Boolean): Either[Unit, Either[Unit, Unit]] = \n",
    "    b match {\n",
    "        case true => Left(())\n",
    "        case false => Right(Left(()))\n",
    "    }\n",
    "\n",
    "def f3(b: Boolean): Either[Unit, Either[Unit, Unit]] = \n",
    "    b match {\n",
    "        case true => Left(())\n",
    "        case false => Right(Right(()))\n",
    "    }\n",
    "\n",
    "def f4(b: Boolean): Either[Unit, Either[Unit, Unit]] = \n",
    "    b match {\n",
    "        case true => Right(Left(()))\n",
    "        case false => Left(())\n",
    "    }\n",
    "\n",
    "def f5(b: Boolean): Either[Unit, Either[Unit, Unit]] = \n",
    "    b match {\n",
    "        case true => Right(Right(()))\n",
    "        case false => Left(())\n",
    "    }\n",
    "\n",
    "def f6(b: Boolean): Either[Unit, Either[Unit, Unit]] = \n",
    "    b match {\n",
    "        case true => Right(Left(()))\n",
    "        case false => Right(Left(()))\n",
    "    }\n",
    "\n",
    "def f7(b: Boolean): Either[Unit, Either[Unit, Unit]] = \n",
    "    b match {\n",
    "        case true => Right(Left(()))\n",
    "        case false => Right(Right(()))\n",
    "    }\n",
    "\n",
    "def f8(b: Boolean): Either[Unit, Either[Unit, Unit]] = \n",
    "    b match {\n",
    "        case true => Right(Right(()))\n",
    "        case false => Right(Left(()))\n",
    "    }\n",
    "\n",
    "def f9(b: Boolean): Either[Unit, Either[Unit, Unit]] = \n",
    "    b match {\n",
    "        case true => Right(Right(()))\n",
    "        case false => Right(Right(()))\n",
    "    }"
   ]
  },
  {
   "cell_type": "markdown",
   "metadata": {},
   "source": [
    "Nine different implementations"
   ]
  },
  {
   "cell_type": "markdown",
   "metadata": {},
   "source": [
    "## Exercise 4"
   ]
  },
  {
   "cell_type": "markdown",
   "metadata": {},
   "source": [
    "Show that the following law holds for exponent types: $(Z^Y)^X \\cong Z^{Y*X}$, for all types $X$, $Y$ and $Z$."
   ]
  },
  {
   "cell_type": "code",
   "execution_count": 42,
   "metadata": {},
   "outputs": [
    {
     "data": {
      "text/plain": [
       "defined \u001b[32mclass\u001b[39m \u001b[36mIso\u001b[39m"
      ]
     },
     "execution_count": 42,
     "metadata": {},
     "output_type": "execute_result"
    }
   ],
   "source": [
    "class Iso[X, Y, Z] extends Isomorphic[X => (Y => Z), ((Y, X)) => Z]{\n",
    "\n",
    "    // uncurry\n",
    "//     def from(f: X => Y => Z): ((Y, X)) => Z = \n",
    "//         (tup : (Y, X)) =>\n",
    "//             f(tup._2)(tup._1)\n",
    "    def from(f: X => Y => Z): ((Y, X)) => Z = \n",
    "        tup => f(tup._2)(tup._1)\n",
    " \n",
    "    // curry\n",
    "//     def to(f: ((Y, X)) => Z): X => Y => Z = \n",
    "//         (x : X) => (y : Y) => f((y, x)) : Z\n",
    "    def to(f: ((Y, X)) => Z): X => Y => Z = \n",
    "        x => y => f((y, x))\n",
    "}"
   ]
  },
  {
   "cell_type": "markdown",
   "metadata": {},
   "source": [
    "Implement function equality for the following signatures and check that both functions, `curry` and `uncurry`, are inverses of each other for two sample functions $ex1$ and $ex2$:  "
   ]
  },
  {
   "cell_type": "code",
   "execution_count": 45,
   "metadata": {},
   "outputs": [
    {
     "data": {
      "text/plain": [
       "defined \u001b[32mfunction\u001b[39m \u001b[36mex1\u001b[39m\n",
       "defined \u001b[32mfunction\u001b[39m \u001b[36mex2\u001b[39m"
      ]
     },
     "execution_count": 45,
     "metadata": {},
     "output_type": "execute_result"
    }
   ],
   "source": [
    "def ex1: Boolean => Boolean => Boolean = \n",
    "    x => y => true\n",
    "\n",
    "def ex2: ((Boolean, Boolean)) => Boolean = \n",
    "    tuple => false"
   ]
  },
  {
   "cell_type": "code",
   "execution_count": 39,
   "metadata": {},
   "outputs": [
    {
     "data": {
      "text/plain": [
       "\u001b[36mres38\u001b[39m: \u001b[32mBoolean\u001b[39m = \u001b[32mtrue\u001b[39m"
      ]
     },
     "execution_count": 39,
     "metadata": {},
     "output_type": "execute_result"
    }
   ],
   "source": [
    "ex1(true)(false)"
   ]
  },
  {
   "cell_type": "markdown",
   "metadata": {},
   "source": [
    "Accordingly, we need to override the equality functions:"
   ]
  },
  {
   "cell_type": "code",
   "execution_count": 43,
   "metadata": {},
   "outputs": [
    {
     "data": {
      "text/plain": [
       "defined \u001b[32mobject\u001b[39m \u001b[36mIso\u001b[39m"
      ]
     },
     "execution_count": 43,
     "metadata": {},
     "output_type": "execute_result"
    }
   ],
   "source": [
    "object Iso extends Iso[Boolean, Boolean, Boolean]{\n",
    "    \n",
    "    override def equalA(f1: Boolean => Boolean => Boolean, \n",
    "               f2: Boolean => Boolean => Boolean): Boolean = \n",
    "        f1(false)(false) == f2(false)(false) &&\n",
    "        f1(false)(true) == f2(false)(true) &&\n",
    "        f1(true)(false) == f2(true)(false) &&\n",
    "        f1(true)(true) == f2(true)(true)\n",
    "    \n",
    "    override def equalB(f1: ((Boolean, Boolean)) => Boolean, \n",
    "               f2: ((Boolean, Boolean)) => Boolean): Boolean = \n",
    "        f1((false, false)) == f2((false, false)) &&\n",
    "        f1((false, true)) == f2((false, true)) &&\n",
    "        f1((true, false)) == f2((true, false)) &&\n",
    "        f1((true, true)) == f2((true, true))\n",
    "}"
   ]
  },
  {
   "cell_type": "markdown",
   "metadata": {},
   "source": [
    "Now, check that curry and uncurry are inverses of each other for sample\n",
    "functions `ex1` and `ex2`:\n"
   ]
  },
  {
   "cell_type": "code",
   "execution_count": 46,
   "metadata": {},
   "outputs": [
    {
     "data": {
      "text/plain": [
       "\u001b[36mres45_0\u001b[39m: \u001b[32mBoolean\u001b[39m = \u001b[32mtrue\u001b[39m\n",
       "\u001b[36mres45_1\u001b[39m: \u001b[32mBoolean\u001b[39m = \u001b[32mtrue\u001b[39m"
      ]
     },
     "execution_count": 46,
     "metadata": {},
     "output_type": "execute_result"
    }
   ],
   "source": [
    "Iso.law1(ex1)\n",
    "Iso.law2(ex2)"
   ]
  },
  {
   "cell_type": "markdown",
   "metadata": {},
   "source": [
    "## Exercise 5"
   ]
  },
  {
   "cell_type": "markdown",
   "metadata": {},
   "source": [
    "Shows that the following law holds for exponent types: $(Y*Z)^X \\cong Y^X*Z^X$, for all types $X$, $Y$ and $Z$."
   ]
  },
  {
   "cell_type": "code",
   "execution_count": 66,
   "metadata": {},
   "outputs": [
    {
     "data": {
      "text/plain": [
       "defined \u001b[32mclass\u001b[39m \u001b[36mIso\u001b[39m"
      ]
     },
     "execution_count": 66,
     "metadata": {},
     "output_type": "execute_result"
    }
   ],
   "source": [
    "class Iso[X, Y, Z] extends Isomorphic[X => (Y, Z), (X => Y, X => Z)] {\n",
    "    def from(a: X => (Y, Z)) : (X => Y, X => Z) =\n",
    "        (x => a(x)._1, x => a(x)._2)\n",
    "    \n",
    "    def to(b: (X => Y, X => Z)) : (X => (Y, Z)) =\n",
    "        x => (b._1(x), b._2(x))\n",
    "}"
   ]
  },
  {
   "cell_type": "markdown",
   "metadata": {},
   "source": [
    "Fix the type parameters to particular types $A$, $B$ and $C$, implement equality for the corresponding signatures and check that both functions, `from[A, B, C]` and `to[A, B, C]`, are inverses of each other given two sample functions of your choice.  "
   ]
  },
  {
   "cell_type": "code",
   "execution_count": 67,
   "metadata": {},
   "outputs": [
    {
     "data": {
      "text/plain": [
       "defined \u001b[32mfunction\u001b[39m \u001b[36mfn1\u001b[39m\n",
       "defined \u001b[32mfunction\u001b[39m \u001b[36mfn2\u001b[39m"
      ]
     },
     "execution_count": 67,
     "metadata": {},
     "output_type": "execute_result"
    }
   ],
   "source": [
    "// give two sample functions\n",
    "def fn1 : Boolean => (Boolean, Boolean) =\n",
    "    x => (x, !x)\n",
    "\n",
    "def fn2 : (Boolean => Boolean, Boolean => Boolean) =\n",
    "    (x => x, x => !x)"
   ]
  },
  {
   "cell_type": "code",
   "execution_count": 79,
   "metadata": {},
   "outputs": [
    {
     "data": {
      "text/plain": [
       "defined \u001b[32mobject\u001b[39m \u001b[36mIso\u001b[39m"
      ]
     },
     "execution_count": 79,
     "metadata": {},
     "output_type": "execute_result"
    }
   ],
   "source": [
    "// override equality functions\n",
    "object Iso extends Iso[Boolean, Boolean, Boolean] {\n",
    "    override def equalA(a1: (Boolean => (Boolean, Boolean)), a2: (Boolean => (Boolean, Boolean))): Boolean =\n",
    "        a1(false) == a2(false) &&\n",
    "        a1(true) == a2(true)\n",
    "    override def equalB(b1: (Boolean => Boolean, Boolean => Boolean), b2: (Boolean => Boolean, Boolean => Boolean)) =\n",
    "        (b1._1(false), b1._2(false)) == (b2._1(false), b2._2(false)) &&\n",
    "        (b1._1(true), b1._2(true)) == (b2._1(true), b2._2(true))\n",
    "}"
   ]
  },
  {
   "cell_type": "code",
   "execution_count": 90,
   "metadata": {},
   "outputs": [
    {
     "data": {
      "text/plain": [
       "\u001b[36mres89_0\u001b[39m: \u001b[32mBoolean\u001b[39m = \u001b[32mtrue\u001b[39m\n",
       "\u001b[36mres89_1\u001b[39m: \u001b[32mBoolean\u001b[39m = \u001b[32mtrue\u001b[39m\n",
       "\u001b[36mres89_2\u001b[39m: \u001b[32mBoolean\u001b[39m = \u001b[32mtrue\u001b[39m\n",
       "\u001b[36mres89_3\u001b[39m: \u001b[32mBoolean\u001b[39m = \u001b[32mtrue\u001b[39m"
      ]
     },
     "execution_count": 90,
     "metadata": {},
     "output_type": "execute_result"
    }
   ],
   "source": [
    "// test laws\n",
    "Iso.equalA(fn1, fn1)\n",
    "Iso.equalB(fn2, fn2)\n",
    "\n",
    "Iso.law1(fn1)\n",
    "Iso.law2(fn2)"
   ]
  }
 ],
 "metadata": {
  "kernelspec": {
   "display_name": "Scala",
   "language": "scala",
   "name": "scala"
  },
  "language_info": {
   "codemirror_mode": "text/x-scala",
   "file_extension": ".sc",
   "mimetype": "text/x-scala",
   "name": "scala",
   "nbconvert_exporter": "script",
   "version": "2.13.8"
  }
 },
 "nbformat": 4,
 "nbformat_minor": 4
}
