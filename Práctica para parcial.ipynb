{
 "cells": [
  {
   "cell_type": "code",
   "execution_count": 16,
   "id": "9a43de0b",
   "metadata": {},
   "outputs": [
    {
     "data": {
      "text/plain": [
       "defined \u001b[32mfunction\u001b[39m \u001b[36mpenultimate\u001b[39m"
      ]
     },
     "execution_count": 16,
     "metadata": {},
     "output_type": "execute_result"
    }
   ],
   "source": [
    "def penultimate[A](list: List[A]): Option[A] =\n",
    "    list match {\n",
    "        case Nil => None\n",
    "        case head1 :: head2 :: Nil => Some(head1)\n",
    "        case _ :: tail => penultimate(tail)\n",
    "    }"
   ]
  },
  {
   "cell_type": "code",
   "execution_count": null,
   "id": "c9ac3f8a",
   "metadata": {},
   "outputs": [],
   "source": [
    "def penultimate[A](list: List[A]): Option[A] =\n",
    "    list.foldRight(Nil)(())"
   ]
  },
  {
   "cell_type": "code",
   "execution_count": 15,
   "id": "cd1c2191",
   "metadata": {},
   "outputs": [
    {
     "data": {
      "text/plain": [
       "\u001b[36mres14\u001b[39m: \u001b[32mOption\u001b[39m[\u001b[32mInt\u001b[39m] = \u001b[33mSome\u001b[39m(value = \u001b[32m2\u001b[39m)"
      ]
     },
     "execution_count": 15,
     "metadata": {},
     "output_type": "execute_result"
    }
   ],
   "source": [
    "penultimate(List(1, 2, 3))"
   ]
  }
 ],
 "metadata": {
  "kernelspec": {
   "display_name": "Scala",
   "language": "scala",
   "name": "scala"
  },
  "language_info": {
   "codemirror_mode": "text/x-scala",
   "file_extension": ".sc",
   "mimetype": "text/x-scala",
   "name": "scala",
   "nbconvert_exporter": "script",
   "version": "2.13.8"
  }
 },
 "nbformat": 4,
 "nbformat_minor": 5
}
